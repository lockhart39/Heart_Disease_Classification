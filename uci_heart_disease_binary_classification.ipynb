{
 "cells": [
  {
   "cell_type": "markdown",
   "execution_count": null,
   "metadata": {
    "papermill": {
     "duration": 0.007502,
     "end_time": "2020-09-05T15:37:51.559338",
     "exception": false,
     "start_time": "2020-09-05T15:37:51.551836",
     "status": "completed"
    },
    "tags": []
   },
   "source": [
    "### About:\n",
    "\n",
    "This notebook uses the UCI Heart Disease dataset. It is a collection of 14 attributes including the labels. I'm including a copy of the short descriptions for each attribute below.\n",
    "\n",
    "Kaggle Dataset:\n",
    "https://www.kaggle.com/cherngs/heart-disease-cleveland-uci\n",
    "\n",
    "Source Page:\n",
    "https://archive.ics.uci.edu/ml/datasets/Heart+Disease\n",
    "\n",
    "### Objective:\n",
    "\n",
    "We want to predict whether an individual has heart disease or not. First, we'll compare two models, Random Forest and Stochastic Gradient Descent, using cross validation. We'll take the most accurate model and perform a grid search to find the best parameters then refit the tuned model to the whole train set. Last, we'll use the F1 score to see how accurate our model is on the test set.  \n",
    "\n",
    "### Creators:\n",
    "\n",
    "1. Hungarian Institute of Cardiology. Budapest: Andras Janosi, M.D.\n",
    "2. University Hospital, Zurich, Switzerland: William Steinbrunn, M.D.\n",
    "3. University Hospital, Basel, Switzerland: Matthias Pfisterer, M.D.\n",
    "4. V.A. Medical Center, Long Beach and Cleveland Clinic Foundation:Robert Detrano, M.D., Ph.D.\n",
    "\n",
    "### Attribute Info:\n",
    "\n",
    "* age: age in years\n",
    "* sex: sex \n",
    "    * 1 = male\n",
    "    * 0 = female\n",
    "* cp: chest pain type\n",
    "    * Value 0: typical angina\n",
    "    * Value 1: atypical angina\n",
    "    * Value 2: non-anginal pain\n",
    "    * Value 3: asymptomatic\n",
    "* trestbps: resting blood pressure (in mm Hg on admission to the hospital)\n",
    "* chol: serum cholestoral in mg/dl\n",
    "* fbs: (fasting blood sugar > 120 mg/dl)\n",
    "    * 1 = true\n",
    "    * 0 = false\n",
    "* restecg: resting electrocardiographic results\n",
    "    * Value 0: normal\n",
    "    * Value 1: having ST-T wave abnormality (T wave inversions and/or ST elevation or depression of > 0.05 mV)\n",
    "    * Value 2: showing probable or definite left ventricular hypertrophy by Estes' criteria\n",
    "* thalach: maximum heart rate achieved\n",
    "* exang: exercise induced angina\n",
    "    * 1 = yes\n",
    "    * 0 = no\n",
    "* oldpeak = ST depression induced by exercise relative to rest\n",
    "* slope: the slope of the peak exercise ST segment\n",
    "    * Value 0: upsloping\n",
    "    * Value 1: flat\n",
    "    * Value 2: downsloping\n",
    "* ca: number of major vessels (0-3) colored by flourosopy\n",
    "* thal: \n",
    "    * 0 = normal\n",
    "    * 1 = fixed defect\n",
    "    * 2 = reversable defect\n",
    "* condition: 0 = no disease, 1 = disease"
   ]
  },
  {
   "cell_type": "code",
   "execution_count": 1,
   "metadata": {
    "_cell_guid": "b1076dfc-b9ad-4769-8c92-a6c4dae69d19",
    "_uuid": "8f2839f25d086af736a60e9eeb907d3b93b6e0e5",
    "execution": {
     "iopub.execute_input": "2020-09-05T15:37:51.582135Z",
     "iopub.status.busy": "2020-09-05T15:37:51.580026Z",
     "iopub.status.idle": "2020-09-05T15:37:53.186396Z",
     "shell.execute_reply": "2020-09-05T15:37:53.187286Z"
    },
    "papermill": {
     "duration": 1.621992,
     "end_time": "2020-09-05T15:37:53.187527",
     "exception": false,
     "start_time": "2020-09-05T15:37:51.565535",
     "status": "completed"
    },
    "tags": []
   },
   "outputs": [
    {
     "name": "stdout",
     "output_type": "stream",
     "text": [
      "count(*): 297\n",
      "\n"
     ]
    },
    {
     "data": {
      "image/png": "[encoded data removed]",
      "text/plain": [
       "<Figure size 432x288 with 1 Axes>"
      ]
     },
     "metadata": {
      "needs_background": "light"
     },
     "output_type": "display_data"
    },
    {
     "name": "stdout",
     "output_type": "stream",
     "text": [
      "age null count: 0\n",
      "sex null count: 0\n",
      "cp null count: 0\n",
      "trestbps null count: 0\n",
      "chol null count: 0\n",
      "fbs null count: 0\n",
      "restecg null count: 0\n",
      "thalach null count: 0\n",
      "exang null count: 0\n",
      "oldpeak null count: 0\n",
      "slope null count: 0\n",
      "ca null count: 0\n",
      "thal null count: 0\n",
      "condition null count: 0\n"
     ]
    }
   ],
   "source": [
    "# module imports\n",
    "import seaborn as sns\n",
    "import matplotlib.pyplot as plt\n",
    "import numpy as np \n",
    "import pandas as pd\n",
    "from sklearn.ensemble import RandomForestClassifier\n",
    "from sklearn.linear_model import SGDClassifier\n",
    "from sklearn.model_selection import train_test_split, cross_val_predict, GridSearchCV\n",
    "from sklearn.metrics import f1_score, precision_score, recall_score, classification_report, confusion_matrix\n",
    "\n",
    "from scipy import stats\n",
    "\n",
    "# read data into dataframe\n",
    "df = pd.read_csv(\"/kaggle/input/heart-disease-cleveland-uci/heart_cleveland_upload.csv\")\n",
    "\n",
    "print('count(*): ' + str(len(df.index)) + '\\n')\n",
    "\n",
    "sns.countplot(x = 'condition', data = df)\n",
    "plt.title('Counts by Condition')\n",
    "plt.show()\n",
    "\n",
    "for col in df.columns:\n",
    "    print(str(col) + ' null count: ' + str(df[col].isnull().sum()))"
   ]
  },
  {
   "cell_type": "raw",
   "execution_count": null,
   "metadata": {
    "papermill": {
     "duration": 0.006337,
     "end_time": "2020-09-05T15:37:53.201158",
     "exception": false,
     "start_time": "2020-09-05T15:37:53.194821",
     "status": "completed"
    },
    "tags": []
   },
   "source": [
    "The labels are relatively balanced and none of our fields contain null values. \n",
    "\n",
    "Next, we can try to see if there any relationships between the attributes. First, we'll look at the Pearson correlation coefficents between the continuous variables to see if any of them are positively/negatively correlated. "
   ]
  },
  {
   "cell_type": "code",
   "execution_count": 2,
   "metadata": {
    "execution": {
     "iopub.execute_input": "2020-09-05T15:37:53.233165Z",
     "iopub.status.busy": "2020-09-05T15:37:53.232386Z",
     "iopub.status.idle": "2020-09-05T15:37:53.242791Z",
     "shell.execute_reply": "2020-09-05T15:37:53.242121Z"
    },
    "papermill": {
     "duration": 0.033786,
     "end_time": "2020-09-05T15:37:53.242916",
     "exception": false,
     "start_time": "2020-09-05T15:37:53.209130",
     "status": "completed"
    },
    "tags": []
   },
   "outputs": [
    {
     "data": {
      "text/html": [
       "<div>\n",
       "<style scoped>\n",
       "    .dataframe tbody tr th:only-of-type {\n",
       "        vertical-align: middle;\n",
       "    }\n",
       "\n",
       "    .dataframe tbody tr th {\n",
       "        vertical-align: top;\n",
       "    }\n",
       "\n",
       "    .dataframe thead th {\n",
       "        text-align: right;\n",
       "    }\n",
       "</style>\n",
       "<table border=\"1\" class=\"dataframe\">\n",
       "  <thead>\n",
       "    <tr style=\"text-align: right;\">\n",
       "      <th></th>\n",
       "      <th>age</th>\n",
       "      <th>trestbps</th>\n",
       "      <th>chol</th>\n",
       "      <th>thalach</th>\n",
       "      <th>oldpeak</th>\n",
       "    </tr>\n",
       "  </thead>\n",
       "  <tbody>\n",
       "    <tr>\n",
       "      <th>age</th>\n",
       "      <td>1.000000</td>\n",
       "      <td>0.290476</td>\n",
       "      <td>0.202644</td>\n",
       "      <td>-0.394563</td>\n",
       "      <td>0.197123</td>\n",
       "    </tr>\n",
       "    <tr>\n",
       "      <th>trestbps</th>\n",
       "      <td>0.290476</td>\n",
       "      <td>1.000000</td>\n",
       "      <td>0.131536</td>\n",
       "      <td>-0.049108</td>\n",
       "      <td>0.191243</td>\n",
       "    </tr>\n",
       "    <tr>\n",
       "      <th>chol</th>\n",
       "      <td>0.202644</td>\n",
       "      <td>0.131536</td>\n",
       "      <td>1.000000</td>\n",
       "      <td>-0.000075</td>\n",
       "      <td>0.038596</td>\n",
       "    </tr>\n",
       "    <tr>\n",
       "      <th>thalach</th>\n",
       "      <td>-0.394563</td>\n",
       "      <td>-0.049108</td>\n",
       "      <td>-0.000075</td>\n",
       "      <td>1.000000</td>\n",
       "      <td>-0.347640</td>\n",
       "    </tr>\n",
       "    <tr>\n",
       "      <th>oldpeak</th>\n",
       "      <td>0.197123</td>\n",
       "      <td>0.191243</td>\n",
       "      <td>0.038596</td>\n",
       "      <td>-0.347640</td>\n",
       "      <td>1.000000</td>\n",
       "    </tr>\n",
       "  </tbody>\n",
       "</table>\n",
       "</div>"
      ],
      "text/plain": [
       "               age  trestbps      chol   thalach   oldpeak\n",
       "age       1.000000  0.290476  0.202644 -0.394563  0.197123\n",
       "trestbps  0.290476  1.000000  0.131536 -0.049108  0.191243\n",
       "chol      0.202644  0.131536  1.000000 -0.000075  0.038596\n",
       "thalach  -0.394563 -0.049108 -0.000075  1.000000 -0.347640\n",
       "oldpeak   0.197123  0.191243  0.038596 -0.347640  1.000000"
      ]
     },
     "execution_count": 2,
     "metadata": {},
     "output_type": "execute_result"
    }
   ],
   "source": [
    "df[['age', 'trestbps', 'chol', 'thalach', 'oldpeak']].corr()"
   ]
  },
  {
   "cell_type": "markdown",
   "execution_count": null,
   "metadata": {
    "papermill": {
     "duration": 0.006604,
     "end_time": "2020-09-05T15:37:53.256369",
     "exception": false,
     "start_time": "2020-09-05T15:37:53.249765",
     "status": "completed"
    },
    "tags": []
   },
   "source": [
    "None of the continuous variable seem to be strongly correlated (>= 0.5/<= -0.5). Thalach, the maximum heart rate achieved is somewhat negatively correlated with age and oldpeak.\n",
    "\n",
    "We can also take a look at the Point Biserial Correlation Coefficent between our target, condition (a binary variable), and the continuous variables in the data. "
   ]
  },
  {
   "cell_type": "code",
   "execution_count": 3,
   "metadata": {
    "execution": {
     "iopub.execute_input": "2020-09-05T15:37:53.276927Z",
     "iopub.status.busy": "2020-09-05T15:37:53.276167Z",
     "iopub.status.idle": "2020-09-05T15:37:53.283563Z",
     "shell.execute_reply": "2020-09-05T15:37:53.284164Z"
    },
    "papermill": {
     "duration": 0.021297,
     "end_time": "2020-09-05T15:37:53.284309",
     "exception": false,
     "start_time": "2020-09-05T15:37:53.263012",
     "status": "completed"
    },
    "tags": []
   },
   "outputs": [
    {
     "name": "stdout",
     "output_type": "stream",
     "text": [
      "age: 0.22707515465323652\n",
      "trestbps: 0.15349002570252018\n",
      "chol: 0.08028475098000232\n",
      "thalach: -0.4238170641833712\n",
      "oldpeak: 0.4240520567159988\n"
     ]
    }
   ],
   "source": [
    "cont_flds = ['age', 'trestbps', 'chol', 'thalach', 'oldpeak']\n",
    "\n",
    "for i in cont_flds:\n",
    "    a = stats.pointbiserialr(df['condition'].values, df[i].values)\n",
    "    print(i + \": \" + str(a[0]))"
   ]
  },
  {
   "cell_type": "markdown",
   "execution_count": null,
   "metadata": {
    "papermill": {
     "duration": 0.00678,
     "end_time": "2020-09-05T15:37:53.298323",
     "exception": false,
     "start_time": "2020-09-05T15:37:53.291543",
     "status": "completed"
    },
    "tags": []
   },
   "source": [
    "It doesn't seem like anything is strongly correlated. We can try plotting the attributes in different ways just to see if there are any interesting characteristics. "
   ]
  },
  {
   "cell_type": "code",
   "execution_count": 4,
   "metadata": {
    "execution": {
     "iopub.execute_input": "2020-09-05T15:37:53.325562Z",
     "iopub.status.busy": "2020-09-05T15:37:53.319128Z",
     "iopub.status.idle": "2020-09-05T15:37:53.467779Z",
     "shell.execute_reply": "2020-09-05T15:37:53.467151Z"
    },
    "papermill": {
     "duration": 0.162658,
     "end_time": "2020-09-05T15:37:53.467902",
     "exception": false,
     "start_time": "2020-09-05T15:37:53.305244",
     "status": "completed"
    },
    "tags": []
   },
   "outputs": [
    {
     "data": {
      "text/plain": [
       "<matplotlib.axes._subplots.AxesSubplot at 0x7f5d04f22c90>"
      ]
     },
     "execution_count": 4,
     "metadata": {},
     "output_type": "execute_result"
    },
    {
     "data": {
      "image/png": "[encoded data removed]",
      "text/plain": [
       "<Figure size 432x288 with 1 Axes>"
      ]
     },
     "metadata": {
      "needs_background": "light"
     },
     "output_type": "display_data"
    }
   ],
   "source": [
    "sns.boxplot(x = 'condition', y = 'thalach', data = df)"
   ]
  },
  {
   "cell_type": "code",
   "execution_count": 5,
   "metadata": {
    "execution": {
     "iopub.execute_input": "2020-09-05T15:37:53.495804Z",
     "iopub.status.busy": "2020-09-05T15:37:53.490199Z",
     "iopub.status.idle": "2020-09-05T15:37:53.740255Z",
     "shell.execute_reply": "2020-09-05T15:37:53.739321Z"
    },
    "papermill": {
     "duration": 0.264254,
     "end_time": "2020-09-05T15:37:53.740397",
     "exception": false,
     "start_time": "2020-09-05T15:37:53.476143",
     "status": "completed"
    },
    "tags": []
   },
   "outputs": [
    {
     "data": {
      "text/plain": [
       "<matplotlib.axes._subplots.AxesSubplot at 0x7f5d04e1a990>"
      ]
     },
     "execution_count": 5,
     "metadata": {},
     "output_type": "execute_result"
    },
    {
     "data": {
      "image/png": "[encoded data removed]",
      "text/plain": [
       "<Figure size 864x432 with 2 Axes>"
      ]
     },
     "metadata": {
      "needs_background": "light"
     },
     "output_type": "display_data"
    }
   ],
   "source": [
    "fig, axes = plt.subplots(1,2, figsize = (12,6))\n",
    "\n",
    "\n",
    "sns.countplot(x = 'condition', data = df.loc[df['thalach'] <= 150], ax = axes[0])\n",
    "sns.countplot(x = 'condition', data = df.loc[df['thalach'] > 150], ax = axes[1])"
   ]
  },
  {
   "cell_type": "code",
   "execution_count": 6,
   "metadata": {
    "execution": {
     "iopub.execute_input": "2020-09-05T15:37:53.765249Z",
     "iopub.status.busy": "2020-09-05T15:37:53.764453Z",
     "iopub.status.idle": "2020-09-05T15:37:54.309617Z",
     "shell.execute_reply": "2020-09-05T15:37:54.308891Z"
    },
    "papermill": {
     "duration": 0.561325,
     "end_time": "2020-09-05T15:37:54.309738",
     "exception": false,
     "start_time": "2020-09-05T15:37:53.748413",
     "status": "completed"
    },
    "tags": []
   },
   "outputs": [
    {
     "data": {
      "text/plain": [
       "<matplotlib.axes._subplots.AxesSubplot at 0x7f5d04fa3950>"
      ]
     },
     "execution_count": 6,
     "metadata": {},
     "output_type": "execute_result"
    },
    {
     "data": {
      "image/png": "[encoded data removed]",
      "text/plain": [
       "<Figure size 1296x432 with 3 Axes>"
      ]
     },
     "metadata": {
      "needs_background": "light"
     },
     "output_type": "display_data"
    }
   ],
   "source": [
    "fig, axes = plt.subplots(1,3, figsize = (18,6))\n",
    "\n",
    "# chest pain types by sex\n",
    "sns.countplot(x = 'cp', hue = 'slope', data = df.loc[df['slope'] != 2], ax=axes[0])\n",
    "sns.countplot(x = 'thal', hue='slope', data = df.loc[df['slope'] != 2], ax = axes[1])\n",
    "sns.countplot(x = 'condition', hue='slope', data = df.loc[df['slope'] != 2], ax = axes[-1])"
   ]
  },
  {
   "cell_type": "code",
   "execution_count": 7,
   "metadata": {
    "execution": {
     "iopub.execute_input": "2020-09-05T15:37:54.340789Z",
     "iopub.status.busy": "2020-09-05T15:37:54.339738Z",
     "iopub.status.idle": "2020-09-05T15:37:55.017774Z",
     "shell.execute_reply": "2020-09-05T15:37:55.018352Z"
    },
    "papermill": {
     "duration": 0.700463,
     "end_time": "2020-09-05T15:37:55.018505",
     "exception": false,
     "start_time": "2020-09-05T15:37:54.318042",
     "status": "completed"
    },
    "tags": []
   },
   "outputs": [
    {
     "data": {
      "text/plain": [
       "<matplotlib.axes._subplots.AxesSubplot at 0x7f5d04bf7710>"
      ]
     },
     "execution_count": 7,
     "metadata": {},
     "output_type": "execute_result"
    },
    {
     "data": {
      "image/png": "[encoded data removed]",
      "text/plain": [
       "<Figure size 864x288 with 4 Axes>"
      ]
     },
     "metadata": {
      "needs_background": "light"
     },
     "output_type": "display_data"
    }
   ],
   "source": [
    "fig, axes = plt.subplots(1,4, figsize = (12,4))\n",
    "\n",
    "sns.distplot(a = df['age'].values, ax = axes[0])\n",
    "\n",
    "# resting blood pressure\n",
    "sns.distplot(a = df['trestbps'].values, ax = axes[1])\n",
    "sns.distplot(a = df['chol'].values, ax = axes[2])\n",
    "sns.distplot(a = df['thalach'].values, ax = axes[3])\n"
   ]
  },
  {
   "cell_type": "markdown",
   "execution_count": null,
   "metadata": {
    "papermill": {
     "duration": 0.008706,
     "end_time": "2020-09-05T15:37:55.037061",
     "exception": false,
     "start_time": "2020-09-05T15:37:55.028355",
     "status": "completed"
    },
    "tags": []
   },
   "source": [
    "### Binary Classification: Stochastic Gradient Descent and Random Forest"
   ]
  },
  {
   "cell_type": "code",
   "execution_count": 8,
   "metadata": {
    "execution": {
     "iopub.execute_input": "2020-09-05T15:37:55.067724Z",
     "iopub.status.busy": "2020-09-05T15:37:55.063103Z",
     "iopub.status.idle": "2020-09-05T15:37:55.088371Z",
     "shell.execute_reply": "2020-09-05T15:37:55.087687Z"
    },
    "papermill": {
     "duration": 0.042402,
     "end_time": "2020-09-05T15:37:55.088489",
     "exception": false,
     "start_time": "2020-09-05T15:37:55.046087",
     "status": "completed"
    },
    "tags": []
   },
   "outputs": [],
   "source": [
    "# convert categorical variables into dummy indicators\n",
    "cat_flds = ['sex', 'cp', 'fbs', 'restecg', 'exang', 'slope', 'ca', 'thal']\n",
    "train = pd.get_dummies(df, columns = cat_flds, dummy_na=False)\n",
    "\n",
    "# restructure dataframe so labels are at the end\n",
    "train = train[['age', 'trestbps', 'chol', 'thalach', 'oldpeak', 'sex_0',\n",
    "       'sex_1', 'cp_0', 'cp_1', 'cp_2', 'cp_3', 'fbs_0', 'fbs_1', 'restecg_0',\n",
    "       'restecg_1', 'restecg_2', 'exang_0', 'exang_1', 'slope_0', 'slope_1',\n",
    "       'slope_2', 'ca_0', 'ca_1', 'ca_2', 'ca_3', 'thal_0', 'thal_1',\n",
    "       'thal_2', 'condition']]\n",
    "\n",
    "# create label array\n",
    "y = train['condition'].values\n",
    "# create x array\n",
    "x = train.drop(labels = 'condition', axis = 1)\n",
    "\n",
    "# \n",
    "seed = 7\n",
    "np.random.seed(seed)\n",
    "x_train, x_test, y_train, y_test = train_test_split(x, y, test_size=0.3, random_state=seed)"
   ]
  },
  {
   "cell_type": "code",
   "execution_count": 9,
   "metadata": {
    "execution": {
     "iopub.execute_input": "2020-09-05T15:37:55.114095Z",
     "iopub.status.busy": "2020-09-05T15:37:55.113108Z",
     "iopub.status.idle": "2020-09-05T15:37:55.847215Z",
     "shell.execute_reply": "2020-09-05T15:37:55.846376Z"
    },
    "papermill": {
     "duration": 0.749875,
     "end_time": "2020-09-05T15:37:55.847349",
     "exception": false,
     "start_time": "2020-09-05T15:37:55.097474",
     "status": "completed"
    },
    "tags": []
   },
   "outputs": [],
   "source": [
    "# Random Forest\n",
    "rf_clf = RandomForestClassifier(random_state=42)\n",
    "rf_y_train_pred = cross_val_predict(rf_clf, x_train, y_train, cv = 3)\n",
    "\n",
    "# Stochastic Gradient Descent\n",
    "sgd_clf = SGDClassifier(random_state = 42)\n",
    "sgd_y_train_pred = cross_val_predict(sgd_clf, x_train, y_train, cv = 3)"
   ]
  },
  {
   "cell_type": "code",
   "execution_count": 10,
   "metadata": {
    "execution": {
     "iopub.execute_input": "2020-09-05T15:37:55.875283Z",
     "iopub.status.busy": "2020-09-05T15:37:55.874281Z",
     "iopub.status.idle": "2020-09-05T15:37:55.887250Z",
     "shell.execute_reply": "2020-09-05T15:37:55.888120Z"
    },
    "papermill": {
     "duration": 0.03183,
     "end_time": "2020-09-05T15:37:55.888334",
     "exception": false,
     "start_time": "2020-09-05T15:37:55.856504",
     "status": "completed"
    },
    "tags": []
   },
   "outputs": [
    {
     "name": "stdout",
     "output_type": "stream",
     "text": [
      "------- Random Forest -------\n",
      "Confusion Matrix: \n",
      " [[88 20]\n",
      " [24 75]]\n",
      "Precision: 0.7894736842105263\n",
      "Recall: 0.7575757575757576\n",
      "\n",
      "\n",
      "------- SGD -------\n",
      "Confusion Matrix: \n",
      " [[97 11]\n",
      " [69 30]]\n",
      "Precision: 0.7317073170731707\n",
      "Recall: 0.30303030303030304\n"
     ]
    }
   ],
   "source": [
    "print('------- Random Forest -------')\n",
    "print('Confusion Matrix: \\n', confusion_matrix(y_train, rf_y_train_pred))\n",
    "print('Precision:', precision_score(y_train, rf_y_train_pred))\n",
    "print('Recall:', recall_score(y_train, rf_y_train_pred))\n",
    "print('\\n')\n",
    "print('------- SGD -------')\n",
    "print('Confusion Matrix: \\n', confusion_matrix(y_train, sgd_y_train_pred))\n",
    "print('Precision:', precision_score(y_train, sgd_y_train_pred))\n",
    "print('Recall:', recall_score(y_train, sgd_y_train_pred))"
   ]
  },
  {
   "cell_type": "code",
   "execution_count": 11,
   "metadata": {
    "execution": {
     "iopub.execute_input": "2020-09-05T15:37:55.917264Z",
     "iopub.status.busy": "2020-09-05T15:37:55.916455Z",
     "iopub.status.idle": "2020-09-05T15:37:57.655679Z",
     "shell.execute_reply": "2020-09-05T15:37:57.656331Z"
    },
    "papermill": {
     "duration": 1.758484,
     "end_time": "2020-09-05T15:37:57.656492",
     "exception": false,
     "start_time": "2020-09-05T15:37:55.898008",
     "status": "completed"
    },
    "tags": []
   },
   "outputs": [
    {
     "name": "stdout",
     "output_type": "stream",
     "text": [
      "Best parameters for RF:  {'max_features': 2, 'n_estimators': 15}\n"
     ]
    }
   ],
   "source": [
    "rf_clf = RandomForestClassifier(random_state=42)\n",
    "\n",
    "param_grid = [{'n_estimators': [3, 10, 15], 'max_features': [2, 4, 6, 8]}, {'bootstrap': [False], 'n_estimators': [3, 10], 'max_features': [2, 5, 7]}]\n",
    "\n",
    "# refit by default is true but specifying because we want the estimator to be retrained on the whole train set\n",
    "grid_search = GridSearchCV(rf_clf, param_grid, cv = 3, scoring = 'f1', return_train_score=True, refit=True)\n",
    "\n",
    "grid_search.fit(x_train, y_train)\n",
    "\n",
    "best_params = grid_search.best_params_\n",
    "print('Best parameters for RF: ', best_params)"
   ]
  },
  {
   "cell_type": "code",
   "execution_count": 12,
   "metadata": {
    "execution": {
     "iopub.execute_input": "2020-09-05T15:37:57.685025Z",
     "iopub.status.busy": "2020-09-05T15:37:57.683319Z",
     "iopub.status.idle": "2020-09-05T15:37:57.691430Z",
     "shell.execute_reply": "2020-09-05T15:37:57.690868Z"
    },
    "papermill": {
     "duration": 0.025684,
     "end_time": "2020-09-05T15:37:57.691542",
     "exception": false,
     "start_time": "2020-09-05T15:37:57.665858",
     "status": "completed"
    },
    "tags": []
   },
   "outputs": [
    {
     "name": "stdout",
     "output_type": "stream",
     "text": [
      "f1_score: 0.868421052631579\n"
     ]
    }
   ],
   "source": [
    "# get best estimator and save it to a new object\n",
    "new_rf_model = grid_search.best_estimator_\n",
    "\n",
    "# obtain predictions on test set and check f1 score\n",
    "y_test_pred = new_rf_model.predict(x_test)\n",
    "print('f1_score:', f1_score(y_test, y_test_pred))"
   ]
  },
  {
   "cell_type": "markdown",
   "execution_count": null,
   "metadata": {
    "papermill": {
     "duration": 0.008702,
     "end_time": "2020-09-05T15:37:57.709182",
     "exception": false,
     "start_time": "2020-09-05T15:37:57.700480",
     "status": "completed"
    },
    "tags": []
   },
   "source": [
    "#### Summary:\n",
    "\n",
    "A random forest model with max_features set to 2 and n_estimators equal to 15, was able to achieve 87% accuracy. If one desired, they could also obtain the probabilities for a patient having heart disease using the predict_proba method. That information may be more valuable for someone having a ~40% probability of having heart disease that may want to make changes to prevent them from potentially increasing their chances in the future. "
   ]
  },
  {
   "cell_type": "code",
   "execution_count": 13,
   "metadata": {
    "execution": {
     "iopub.execute_input": "2020-09-05T15:37:57.736468Z",
     "iopub.status.busy": "2020-09-05T15:37:57.735437Z",
     "iopub.status.idle": "2020-09-05T15:37:57.744672Z",
     "shell.execute_reply": "2020-09-05T15:37:57.744092Z"
    },
    "papermill": {
     "duration": 0.026678,
     "end_time": "2020-09-05T15:37:57.744794",
     "exception": false,
     "start_time": "2020-09-05T15:37:57.718116",
     "status": "completed"
    },
    "tags": []
   },
   "outputs": [
    {
     "data": {
      "text/plain": [
       "array([1.        , 0.26666667, 1.        , 0.4       , 0.        ,\n",
       "       0.93333333, 0.4       , 0.53333333, 0.33333333, 0.93333333,\n",
       "       0.06666667, 0.86666667, 0.73333333, 0.46666667, 0.66666667,\n",
       "       1.        , 0.26666667, 0.93333333, 0.26666667, 0.86666667,\n",
       "       0.93333333, 0.        , 0.33333333, 0.        , 0.        ,\n",
       "       0.33333333, 0.13333333, 0.86666667, 0.93333333, 0.06666667,\n",
       "       0.26666667, 0.2       , 0.6       , 0.53333333, 0.06666667,\n",
       "       0.06666667, 0.46666667, 0.13333333, 0.        , 0.86666667,\n",
       "       0.33333333, 0.13333333, 0.86666667, 0.8       , 0.26666667,\n",
       "       0.4       , 0.        , 0.4       , 0.8       , 0.86666667,\n",
       "       0.06666667, 0.26666667, 0.53333333, 0.6       , 0.46666667,\n",
       "       0.93333333, 0.86666667, 0.26666667, 0.86666667, 0.86666667,\n",
       "       0.8       , 0.6       , 0.2       , 0.26666667, 0.13333333,\n",
       "       0.33333333, 0.86666667, 0.26666667, 0.06666667, 0.46666667,\n",
       "       0.33333333, 0.        , 0.4       , 0.46666667, 0.        ,\n",
       "       0.06666667, 0.86666667, 0.86666667, 0.        , 0.13333333,\n",
       "       0.2       , 0.        , 0.2       , 0.86666667, 0.93333333,\n",
       "       0.66666667, 0.53333333, 0.8       , 1.        , 0.06666667])"
      ]
     },
     "execution_count": 13,
     "metadata": {},
     "output_type": "execute_result"
    }
   ],
   "source": [
    "# probabilities example\n",
    "y_test_probabilites = new_rf_model.predict_proba(x_test)\n",
    "y_test_probabilites\n",
    "\n",
    "# probabilities of 1 class\n",
    "probs_of_heart_disease = y_test_probabilites[:, 1]\n",
    "probs_of_heart_disease"
   ]
  }
 ],
 "metadata": {
  "kernelspec": {
   "display_name": "Python 3",
   "language": "python",
   "name": "python3"
  },
  "language_info": {
   "codemirror_mode": {
    "name": "ipython",
    "version": 3
   },
   "file_extension": ".py",
   "mimetype": "text/x-python",
   "name": "python",
   "nbconvert_exporter": "python",
   "pygments_lexer": "ipython3",
   "version": "3.7.6"
  },
  "papermill": {
   "duration": 11.213101,
   "end_time": "2020-09-05T15:37:57.860802",
   "environment_variables": {},
   "exception": null,
   "input_path": "__notebook__.ipynb",
   "output_path": "__notebook__.ipynb",
   "parameters": {},
   "start_time": "2020-09-05T15:37:46.647701",
   "version": "2.1.0"
  }
 },
 "nbformat": 4,
 "nbformat_minor": 4
}
